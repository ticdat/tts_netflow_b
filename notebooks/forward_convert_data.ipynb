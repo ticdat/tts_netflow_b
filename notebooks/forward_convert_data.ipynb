{
 "cells": [
  {
   "cell_type": "markdown",
   "metadata": {},
   "source": [
    "### Using ticdat to convert data between different schemas\n",
    "Here I'm showing how I convert  the testing data when the `input_schema` changes between versions of the package under development (i.e. `tts_netflow_b`).\n",
    "\n",
    "This notebook needs `tts_netflow_b` in the Python path, and `test_tts_netflow_b` as a subdirectory of the current directory. If you run it directly from the `notebooks` directory cloned from GitHub it won't find `test_tts_netflow_b`. I prefer to use symbolic links for such things."
   ]
  },
  {
   "cell_type": "code",
   "execution_count": 1,
   "metadata": {},
   "outputs": [],
   "source": [
    "import tts_netflow_b\n",
    "import os\n",
    "from ticdat import TicDatFactory"
   ]
  },
  {
   "cell_type": "markdown",
   "metadata": {},
   "source": [
    "Since we are demonstrating tts_netflow_b as a dynamic work in progress, lets record the version."
   ]
  },
  {
   "cell_type": "code",
   "execution_count": 2,
   "metadata": {},
   "outputs": [
    {
     "data": {
      "text/plain": [
       "'0.0.2'"
      ]
     },
     "execution_count": 2,
     "metadata": {},
     "output_type": "execute_result"
    }
   ],
   "source": [
    "tts_netflow_b.__version__"
   ]
  },
  {
   "cell_type": "markdown",
   "metadata": {},
   "source": [
    "Only one file to convert here, but I'll demonstrate in a way that extends to more than one."
   ]
  },
  {
   "cell_type": "code",
   "execution_count": 3,
   "metadata": {},
   "outputs": [
    {
     "data": {
      "text/plain": [
       "['sample_data.json']"
      ]
     },
     "execution_count": 3,
     "metadata": {},
     "output_type": "execute_result"
    }
   ],
   "source": [
    "files =  os.listdir(os.path.join(\"test_tts_netflow_b\", \"data\"))\n",
    "files"
   ]
  },
  {
   "cell_type": "markdown",
   "metadata": {},
   "source": [
    "This notebook is being run when `tts_netflow_b.input_schema` reflects the new schema (i.e. the 0.0.2 schema), but the data in `files` represents the old schema (i.e. the 0.0.1 schema). \n",
    "\n",
    "To convert, I will thus need the old schema. This is easy, since `tts_netflow_b.modeling_schema` is in fact the old schema."
   ]
  },
  {
   "cell_type": "code",
   "execution_count": 4,
   "metadata": {},
   "outputs": [],
   "source": [
    "for f in files:\n",
    "    dat = tts_netflow_b.modeling_schema.json.create_pan_dat(\n",
    "        os.path.join(\"test_tts_netflow_b\", \"data\", f))\n",
    "    # I recommend two monitors so as to study both schemas at the same time\n",
    "    new_dat = tts_netflow_b.input_schema.PanDat(nodes=dat.nodes, commodities=dat.commodities, \n",
    "                                                arcs=dat.arcs, cost=dat.cost, \n",
    "                                                supply=dat.inflow[dat.inflow[\"Quantity\"] > 0],\n",
    "                                                demand=dat.inflow[dat.inflow[\"Quantity\"] < 0])\n",
    "    new_dat.demand[\"Quantity\"] = -new_dat.demand[\"Quantity\"]\n",
    "    # make sure its kosher before you write it back\n",
    "    assert not tts_netflow_b.input_schema.find_duplicates(new_dat) \n",
    "    assert not tts_netflow_b.input_schema.find_foreign_key_failures(new_dat)\n",
    "    assert not tts_netflow_b.input_schema.find_data_type_failures(new_dat)\n",
    "    assert not tts_netflow_b.input_schema.find_data_row_failures(new_dat)\n",
    "    tts_netflow_b.input_schema.json.write_file(new_dat, \n",
    "                                               os.path.join(\"test_tts_netflow_b\", \"data\", f))    "
   ]
  }
 ],
 "metadata": {
  "kernelspec": {
   "display_name": "Python 3",
   "language": "python",
   "name": "python3"
  },
  "language_info": {
   "codemirror_mode": {
    "name": "ipython",
    "version": 3
   },
   "file_extension": ".py",
   "mimetype": "text/x-python",
   "name": "python",
   "nbconvert_exporter": "python",
   "pygments_lexer": "ipython3",
   "version": "3.7.0"
  }
 },
 "nbformat": 4,
 "nbformat_minor": 2
}
